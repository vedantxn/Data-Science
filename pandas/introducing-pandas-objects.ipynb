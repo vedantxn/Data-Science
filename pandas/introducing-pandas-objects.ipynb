{
 "cells": [
  {
   "cell_type": "code",
   "execution_count": 1,
   "metadata": {},
   "outputs": [],
   "source": [
    "import pandas as pd"
   ]
  },
  {
   "cell_type": "code",
   "execution_count": 6,
   "metadata": {},
   "outputs": [
    {
     "name": "stdout",
     "output_type": "stream",
     "text": [
      "0    10\n",
      "1    20\n",
      "2    30\n",
      "3    40\n",
      "dtype: int64\n",
      "a    1\n",
      "b    2\n",
      "c    3\n",
      "dtype: int64\n",
      "x    100\n",
      "y    200\n",
      "z    300\n",
      "dtype: int64\n"
     ]
    }
   ],
   "source": [
    "# From a list\n",
    "s1 = pd.Series([10, 20, 30, 40])\n",
    "print(s1)\n",
    "\n",
    "# From a dictionary\n",
    "s2 = pd.Series({\"a\": 1, \"b\": 2, \"c\": 3})\n",
    "print(s2)\n",
    "\n",
    "# With custom index\n",
    "s3 = pd.Series([100, 200, 300], index=[\"x\", \"y\", \"z\"])\n",
    "print(s3)\n"
   ]
  },
  {
   "cell_type": "code",
   "execution_count": 7,
   "metadata": {},
   "outputs": [
    {
     "name": "stdout",
     "output_type": "stream",
     "text": [
      "      Name  Age      City\n",
      "0    Alice   25  New York\n",
      "1      Bob   30     Paris\n",
      "2  Charlie   35    London\n",
      "      Name  Age\n",
      "0    Alice   25\n",
      "1      Bob   30\n",
      "2  Charlie   35\n",
      "    A   B   C\n",
      "0  10  77  90\n",
      "1  42  92   1\n",
      "2   1  99  17\n"
     ]
    }
   ],
   "source": [
    "# From a dictionary of lists\n",
    "df1 = pd.DataFrame({\n",
    "    \"Name\": [\"Alice\", \"Bob\", \"Charlie\"],\n",
    "    \"Age\": [25, 30, 35],\n",
    "    \"City\": [\"New York\", \"Paris\", \"London\"]\n",
    "})\n",
    "print(df1)\n",
    "\n",
    "# From a list of dictionaries\n",
    "df2 = pd.DataFrame([\n",
    "    {\"Name\": \"Alice\", \"Age\": 25},\n",
    "    {\"Name\": \"Bob\", \"Age\": 30},\n",
    "    {\"Name\": \"Charlie\", \"Age\": 35}\n",
    "])\n",
    "print(df2)\n",
    "\n",
    "# From a NumPy array\n",
    "import numpy as np\n",
    "data = np.random.randint(1, 100, (3, 3))  # Random 3x3 array\n",
    "df3 = pd.DataFrame(data, columns=[\"A\", \"B\", \"C\"])\n",
    "print(df3)\n"
   ]
  },
  {
   "cell_type": "code",
   "execution_count": 8,
   "metadata": {},
   "outputs": [
    {
     "name": "stdout",
     "output_type": "stream",
     "text": [
      "10\n",
      "   A  B\n",
      "x  1  4\n",
      "y  2  5\n",
      "z  3  6\n",
      "  index  A  B\n",
      "0     x  1  4\n",
      "1     y  2  5\n",
      "2     z  3  6\n"
     ]
    }
   ],
   "source": [
    "s = pd.Series([10, 20, 30], index=[\"a\", \"b\", \"c\"])\n",
    "print(s[\"a\"])  # Accessing via index\n",
    "\n",
    "df = pd.DataFrame({\"A\": [1, 2, 3], \"B\": [4, 5, 6]}, index=[\"x\", \"y\", \"z\"])\n",
    "print(df)\n",
    "\n",
    "df_reset = df.reset_index()  # Convert index to a column\n",
    "print(df_reset)\n"
   ]
  }
 ],
 "metadata": {
  "kernelspec": {
   "display_name": "Python 3",
   "language": "python",
   "name": "python3"
  },
  "language_info": {
   "codemirror_mode": {
    "name": "ipython",
    "version": 3
   },
   "file_extension": ".py",
   "mimetype": "text/x-python",
   "name": "python",
   "nbconvert_exporter": "python",
   "pygments_lexer": "ipython3",
   "version": "3.13.2"
  }
 },
 "nbformat": 4,
 "nbformat_minor": 2
}
