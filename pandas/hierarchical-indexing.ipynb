{
 "cells": [
  {
   "cell_type": "code",
   "execution_count": 5,
   "metadata": {},
   "outputs": [
    {
     "name": "stdout",
     "output_type": "stream",
     "text": [
      "Country  City       \n",
      "USA      New York        8.4\n",
      "         Los Angeles     4.0\n",
      "India    Delhi          18.9\n",
      "         Mumbai         20.4\n",
      "UK       London          9.0\n",
      "         Manchester      2.8\n",
      "dtype: float64\n"
     ]
    }
   ],
   "source": [
    "import pandas as pd\n",
    "\n",
    "# Defining hierarchical index\n",
    "index = pd.MultiIndex.from_tuples([\n",
    "    ('USA', 'New York'),\n",
    "    ('USA', 'Los Angeles'),\n",
    "    ('India', 'Delhi'),\n",
    "    ('India', 'Mumbai'),\n",
    "    ('UK', 'London'),\n",
    "    ('UK', 'Manchester')\n",
    "], names=['Country', 'City'])\n",
    "\n",
    "# Creating the MultiIndex Series\n",
    "population = pd.Series([8.4, 4.0, 18.9, 20.4, 9.0, 2.8], index=index)\n",
    "\n",
    "print(population)\n"
   ]
  },
  {
   "cell_type": "code",
   "execution_count": 6,
   "metadata": {},
   "outputs": [
    {
     "name": "stdout",
     "output_type": "stream",
     "text": [
      "                     Population (millions)  GDP (Billion $)\n",
      "Country City                                               \n",
      "USA     New York                       8.4             1700\n",
      "        Los Angeles                    4.0             1000\n",
      "India   Delhi                         18.9              500\n",
      "        Mumbai                        20.4              400\n",
      "UK      London                         9.0              800\n",
      "        Manchester                     2.8              300\n"
     ]
    }
   ],
   "source": [
    "# Creating a MultiIndex\n",
    "multi_index = pd.MultiIndex.from_tuples([\n",
    "    ('USA', 'New York'),\n",
    "    ('USA', 'Los Angeles'),\n",
    "    ('India', 'Delhi'),\n",
    "    ('India', 'Mumbai'),\n",
    "    ('UK', 'London'),\n",
    "    ('UK', 'Manchester')\n",
    "], names=['Country', 'City'])\n",
    "\n",
    "# Creating the DataFrame\n",
    "data = pd.DataFrame({\n",
    "    'Population (millions)': [8.4, 4.0, 18.9, 20.4, 9.0, 2.8],\n",
    "    'GDP (Billion $)': [1700, 1000, 500, 400, 800, 300]\n",
    "}, index=multi_index)\n",
    "\n",
    "print(data)\n"
   ]
  },
  {
   "cell_type": "code",
   "execution_count": 3,
   "metadata": {},
   "outputs": [
    {
     "name": "stdout",
     "output_type": "stream",
     "text": [
      "             Population (millions)  GDP (Billion $)\n",
      "City                                               \n",
      "New York                       8.4             1700\n",
      "Los Angeles                    4.0             1000\n"
     ]
    }
   ],
   "source": [
    "#access data for a second country\n",
    "print(data.loc['USA'])"
   ]
  },
  {
   "cell_type": "code",
   "execution_count": 10,
   "metadata": {},
   "outputs": [
    {
     "name": "stdout",
     "output_type": "stream",
     "text": [
      "Population (millions)     18.9\n",
      "GDP (Billion $)          500.0\n",
      "Name: (India, Delhi), dtype: float64\n"
     ]
    }
   ],
   "source": [
    "# Access data for a specific city\n",
    "print(data.loc[('India', 'Delhi')])"
   ]
  },
  {
   "cell_type": "code",
   "execution_count": null,
   "metadata": {},
   "outputs": [
    {
     "name": "stdout",
     "output_type": "stream",
     "text": [
      "        Population (millions)  GDP (Billion $)\n",
      "City                                          \n",
      "Delhi                    18.9              500\n",
      "Mumbai                   20.4              400\n"
     ]
    }
   ],
   "source": [
    "# Get all cities under 'India'\n",
    "print(data.xs('India'))"
   ]
  },
  {
   "cell_type": "code",
   "execution_count": 12,
   "metadata": {},
   "outputs": [
    {
     "name": "stdout",
     "output_type": "stream",
     "text": [
      "         Population (millions)  GDP (Billion $)\n",
      "Country                                        \n",
      "USA                        8.4             1700\n"
     ]
    }
   ],
   "source": [
    "# Get all data for 'New York' across all countries\n",
    "print(data.xs('New York', level='City'))"
   ]
  },
  {
   "cell_type": "code",
   "execution_count": 13,
   "metadata": {},
   "outputs": [
    {
     "name": "stdout",
     "output_type": "stream",
     "text": [
      "                     Population (millions)  GDP (Billion $)\n",
      "City        Country                                        \n",
      "New York    USA                        8.4             1700\n",
      "Los Angeles USA                        4.0             1000\n",
      "Delhi       India                     18.9              500\n",
      "Mumbai      India                     20.4              400\n",
      "London      UK                         9.0              800\n",
      "Manchester  UK                         2.8              300\n"
     ]
    }
   ],
   "source": [
    "#swapping the levels\n",
    "swapped = data.swaplevel()\n",
    "print(swapped)"
   ]
  },
  {
   "cell_type": "code",
   "execution_count": 14,
   "metadata": {},
   "outputs": [
    {
     "name": "stdout",
     "output_type": "stream",
     "text": [
      "                     Population (millions)  GDP (Billion $)\n",
      "Country City                                               \n",
      "India   Delhi                         18.9              500\n",
      "        Mumbai                        20.4              400\n",
      "UK      London                         9.0              800\n",
      "        Manchester                     2.8              300\n",
      "USA     Los Angeles                    4.0             1000\n",
      "        New York                       8.4             1700\n"
     ]
    }
   ],
   "source": [
    "#sorting the levels\n",
    "sorted_data = data.sort_index()\n",
    "print(sorted_data)"
   ]
  },
  {
   "cell_type": "code",
   "execution_count": 15,
   "metadata": {},
   "outputs": [
    {
     "name": "stdout",
     "output_type": "stream",
     "text": [
      "  Country         City  Population (millions)  GDP (Billion $)\n",
      "0     USA     New York                    8.4             1700\n",
      "1     USA  Los Angeles                    4.0             1000\n",
      "2   India        Delhi                   18.9              500\n",
      "3   India       Mumbai                   20.4              400\n",
      "4      UK       London                    9.0              800\n",
      "5      UK   Manchester                    2.8              300\n"
     ]
    }
   ],
   "source": [
    "#reset multi index to single index\n",
    "df_reset = data.reset_index()\n",
    "print(df_reset)"
   ]
  },
  {
   "cell_type": "code",
   "execution_count": 16,
   "metadata": {},
   "outputs": [
    {
     "name": "stdout",
     "output_type": "stream",
     "text": [
      "                     Population (millions)  GDP (Billion $)\n",
      "Country City                                               \n",
      "USA     New York                       8.4             1700\n",
      "        Los Angeles                    4.0             1000\n",
      "India   Delhi                         18.9              500\n",
      "        Mumbai                        20.4              400\n",
      "UK      London                         9.0              800\n",
      "        Manchester                     2.8              300\n"
     ]
    }
   ],
   "source": [
    "#setting multiple columns as index\n",
    "df_multi = df_reset.set_index(['Country', 'City'])\n",
    "print(df_multi)"
   ]
  },
  {
   "cell_type": "code",
   "execution_count": 17,
   "metadata": {},
   "outputs": [
    {
     "name": "stdout",
     "output_type": "stream",
     "text": [
      "         Population (millions)  GDP (Billion $)\n",
      "Country                                        \n",
      "India                    19.65            450.0\n",
      "UK                        5.90            550.0\n",
      "USA                       6.20           1350.0\n"
     ]
    }
   ],
   "source": [
    "#group by country and calculate mean\n",
    "print(data.groupby('Country').mean())"
   ]
  }
 ],
 "metadata": {
  "kernelspec": {
   "display_name": "Python 3",
   "language": "python",
   "name": "python3"
  },
  "language_info": {
   "codemirror_mode": {
    "name": "ipython",
    "version": 3
   },
   "file_extension": ".py",
   "mimetype": "text/x-python",
   "name": "python",
   "nbconvert_exporter": "python",
   "pygments_lexer": "ipython3",
   "version": "3.13.2"
  }
 },
 "nbformat": 4,
 "nbformat_minor": 2
}
