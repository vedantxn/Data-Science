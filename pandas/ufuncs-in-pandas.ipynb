{
 "cells": [
  {
   "cell_type": "code",
   "execution_count": 8,
   "metadata": {},
   "outputs": [
    {
     "name": "stdout",
     "output_type": "stream",
     "text": [
      "Original dataset\n",
      "     A   B\n",
      "0   1  10\n",
      "1   4  20\n",
      "2   9  30\n",
      "3  16  40\n",
      "4  25  50\n"
     ]
    }
   ],
   "source": [
    "import pandas as pd\n",
    "import numpy as np\n",
    "\n",
    "# Sample DataFrame\n",
    "data = {'A': [1, 4, 9, 16, 25],\n",
    "        'B': [10, 20, 30, 40, 50]}\n",
    "df = pd.DataFrame(data)\n",
    "print(\"Original dataset\\n\", df)"
   ]
  },
  {
   "cell_type": "code",
   "execution_count": 10,
   "metadata": {},
   "outputs": [
    {
     "name": "stdout",
     "output_type": "stream",
     "text": [
      "    A   B  A_sqrt\n",
      "0   1  10     1.0\n",
      "1   4  20     2.0\n",
      "2   9  30     3.0\n",
      "3  16  40     4.0\n",
      "4  25  50     5.0\n"
     ]
    }
   ],
   "source": [
    "# Applying np.sqrt() on a Series\n",
    "df['A_sqrt'] = np.sqrt(df['A'])\n",
    "print(df)\n"
   ]
  },
  {
   "cell_type": "code",
   "execution_count": 11,
   "metadata": {},
   "outputs": [
    {
     "name": "stdout",
     "output_type": "stream",
     "text": [
      "    A   B  A_sqrt     B_log\n",
      "0   1  10     1.0  2.302585\n",
      "1   4  20     2.0  2.995732\n",
      "2   9  30     3.0  3.401197\n",
      "3  16  40     4.0  3.688879\n",
      "4  25  50     5.0  3.912023\n"
     ]
    }
   ],
   "source": [
    "# Applying np.log() on a Series\n",
    "df['B_log'] = np.log(df['B'])\n",
    "print(df)"
   ]
  },
  {
   "cell_type": "code",
   "execution_count": 13,
   "metadata": {},
   "outputs": [
    {
     "name": "stdout",
     "output_type": "stream",
     "text": [
      "    A   B  A_sqrt     B_log         B_exp\n",
      "0   1  10     1.0  2.302585  2.202647e+04\n",
      "1   4  20     2.0  2.995732  4.851652e+08\n",
      "2   9  30     3.0  3.401197  1.068647e+13\n",
      "3  16  40     4.0  3.688879  2.353853e+17\n",
      "4  25  50     5.0  3.912023  5.184706e+21\n"
     ]
    }
   ],
   "source": [
    "# Applying np.exp() on a Series\n",
    "df['B_exp'] = np.exp(df['B'])\n",
    "print(df)"
   ]
  },
  {
   "cell_type": "code",
   "execution_count": 14,
   "metadata": {},
   "outputs": [
    {
     "name": "stdout",
     "output_type": "stream",
     "text": [
      "    A   B  A_sqrt     B_log         B_exp     A_sin\n",
      "0   1  10     1.0  2.302585  2.202647e+04  0.841471\n",
      "1   4  20     2.0  2.995732  4.851652e+08 -0.756802\n",
      "2   9  30     3.0  3.401197  1.068647e+13  0.412118\n",
      "3  16  40     4.0  3.688879  2.353853e+17 -0.287903\n",
      "4  25  50     5.0  3.912023  5.184706e+21 -0.132352\n"
     ]
    }
   ],
   "source": [
    "# Applying np.abs() to the entire DataFrame\n",
    "df_abs = np.abs(df)\n",
    "\n",
    "# Applying np.sin() to a column\n",
    "df['A_sin'] = np.sin(df['A'])\n",
    "print(df)"
   ]
  },
  {
   "cell_type": "code",
   "execution_count": 15,
   "metadata": {},
   "outputs": [
    {
     "name": "stdout",
     "output_type": "stream",
     "text": [
      "     A     B  A_sqrt      B_log         B_exp     A_sin\n",
      "0    1   100     1.0   5.301898  4.851652e+08  0.708073\n",
      "1   16   400     4.0   8.974412  2.353853e+17  0.572750\n",
      "2   81   900     9.0  11.568144  1.142007e+26  0.169842\n",
      "3  256  1600    16.0  13.607832  5.540622e+34  0.082888\n",
      "4  625  2500    25.0  15.303924  2.688117e+43  0.017517\n"
     ]
    },
    {
     "name": "stderr",
     "output_type": "stream",
     "text": [
      "C:\\Users\\Administrator.BW_NEHAL\\AppData\\Local\\Temp\\ipykernel_12552\\1169791132.py:2: FutureWarning: DataFrame.applymap has been deprecated. Use DataFrame.map instead.\n",
      "  df_squared = df.applymap(np.square)\n"
     ]
    }
   ],
   "source": [
    "# Applying np.square() to all elements in DataFrame\n",
    "df_squared = df.applymap(np.square)\n",
    "print(df_squared)"
   ]
  },
  {
   "cell_type": "code",
   "execution_count": 16,
   "metadata": {},
   "outputs": [
    {
     "name": "stdout",
     "output_type": "stream",
     "text": [
      "    A   B  A_sqrt     B_log         B_exp     A_sin B_category\n",
      "0   1  10     1.0  2.302585  2.202647e+04  0.841471        Low\n",
      "1   4  20     2.0  2.995732  4.851652e+08 -0.756802        Low\n",
      "2   9  30     3.0  3.401197  1.068647e+13  0.412118        Low\n",
      "3  16  40     4.0  3.688879  2.353853e+17 -0.287903       High\n",
      "4  25  50     5.0  3.912023  5.184706e+21 -0.132352       High\n"
     ]
    }
   ],
   "source": [
    "# Using np.where() to create a new column\n",
    "df['B_category'] = np.where(df['B'] > 30, 'High', 'Low')\n",
    "print(df)"
   ]
  },
  {
   "cell_type": "code",
   "execution_count": 17,
   "metadata": {},
   "outputs": [
    {
     "name": "stdout",
     "output_type": "stream",
     "text": [
      "Ufunc time: 0.0014116764068603516\n",
      "Apply time: 0.002546548843383789\n"
     ]
    }
   ],
   "source": [
    "import time\n",
    "\n",
    "# Using np.sqrt()\n",
    "start = time.time()\n",
    "df['A_sqrt'] = np.sqrt(df['A'])\n",
    "print(\"Ufunc time:\", time.time() - start)\n",
    "\n",
    "# Using apply\n",
    "start = time.time()\n",
    "df['A_sqrt_apply'] = df['A'].apply(lambda x: np.sqrt(x))\n",
    "print(\"Apply time:\", time.time() - start)"
   ]
  }
 ],
 "metadata": {
  "kernelspec": {
   "display_name": "Python 3",
   "language": "python",
   "name": "python3"
  },
  "language_info": {
   "codemirror_mode": {
    "name": "ipython",
    "version": 3
   },
   "file_extension": ".py",
   "mimetype": "text/x-python",
   "name": "python",
   "nbconvert_exporter": "python",
   "pygments_lexer": "ipython3",
   "version": "3.13.2"
  }
 },
 "nbformat": 4,
 "nbformat_minor": 2
}
