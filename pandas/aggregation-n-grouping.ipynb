{
 "cells": [
  {
   "cell_type": "code",
   "execution_count": 1,
   "metadata": {},
   "outputs": [
    {
     "data": {
      "text/html": [
       "<div>\n",
       "<style scoped>\n",
       "    .dataframe tbody tr th:only-of-type {\n",
       "        vertical-align: middle;\n",
       "    }\n",
       "\n",
       "    .dataframe tbody tr th {\n",
       "        vertical-align: top;\n",
       "    }\n",
       "\n",
       "    .dataframe thead th {\n",
       "        text-align: right;\n",
       "    }\n",
       "</style>\n",
       "<table border=\"1\" class=\"dataframe\">\n",
       "  <thead>\n",
       "    <tr style=\"text-align: right;\">\n",
       "      <th></th>\n",
       "      <th>Department</th>\n",
       "      <th>Employee</th>\n",
       "      <th>Salary</th>\n",
       "      <th>Experience</th>\n",
       "    </tr>\n",
       "  </thead>\n",
       "  <tbody>\n",
       "    <tr>\n",
       "      <th>0</th>\n",
       "      <td>IT</td>\n",
       "      <td>A</td>\n",
       "      <td>60000</td>\n",
       "      <td>2</td>\n",
       "    </tr>\n",
       "    <tr>\n",
       "      <th>1</th>\n",
       "      <td>IT</td>\n",
       "      <td>B</td>\n",
       "      <td>70000</td>\n",
       "      <td>4</td>\n",
       "    </tr>\n",
       "    <tr>\n",
       "      <th>2</th>\n",
       "      <td>HR</td>\n",
       "      <td>C</td>\n",
       "      <td>50000</td>\n",
       "      <td>3</td>\n",
       "    </tr>\n",
       "    <tr>\n",
       "      <th>3</th>\n",
       "      <td>HR</td>\n",
       "      <td>D</td>\n",
       "      <td>65000</td>\n",
       "      <td>5</td>\n",
       "    </tr>\n",
       "    <tr>\n",
       "      <th>4</th>\n",
       "      <td>Finance</td>\n",
       "      <td>E</td>\n",
       "      <td>80000</td>\n",
       "      <td>7</td>\n",
       "    </tr>\n",
       "    <tr>\n",
       "      <th>5</th>\n",
       "      <td>Finance</td>\n",
       "      <td>F</td>\n",
       "      <td>85000</td>\n",
       "      <td>10</td>\n",
       "    </tr>\n",
       "    <tr>\n",
       "      <th>6</th>\n",
       "      <td>IT</td>\n",
       "      <td>G</td>\n",
       "      <td>75000</td>\n",
       "      <td>6</td>\n",
       "    </tr>\n",
       "    <tr>\n",
       "      <th>7</th>\n",
       "      <td>HR</td>\n",
       "      <td>H</td>\n",
       "      <td>62000</td>\n",
       "      <td>2</td>\n",
       "    </tr>\n",
       "  </tbody>\n",
       "</table>\n",
       "</div>"
      ],
      "text/plain": [
       "  Department Employee  Salary  Experience\n",
       "0         IT        A   60000           2\n",
       "1         IT        B   70000           4\n",
       "2         HR        C   50000           3\n",
       "3         HR        D   65000           5\n",
       "4    Finance        E   80000           7\n",
       "5    Finance        F   85000          10\n",
       "6         IT        G   75000           6\n",
       "7         HR        H   62000           2"
      ]
     },
     "execution_count": 1,
     "metadata": {},
     "output_type": "execute_result"
    }
   ],
   "source": [
    "import pandas as pd\n",
    "\n",
    "# Creating a DataFrame\n",
    "data = {\n",
    "    'Department': ['IT', 'IT', 'HR', 'HR', 'Finance', 'Finance', 'IT', 'HR'],\n",
    "    'Employee': ['A', 'B', 'C', 'D', 'E', 'F', 'G', 'H'],\n",
    "    'Salary': [60000, 70000, 50000, 65000, 80000, 85000, 75000, 62000],\n",
    "    'Experience': [2, 4, 3, 5, 7, 10, 6, 2]\n",
    "}\n",
    "\n",
    "df = pd.DataFrame(data)\n",
    "df"
   ]
  },
  {
   "cell_type": "code",
   "execution_count": 4,
   "metadata": {},
   "outputs": [
    {
     "name": "stdout",
     "output_type": "stream",
     "text": [
      "547000\n"
     ]
    }
   ],
   "source": [
    "#sum of values\n",
    "print(df['Salary'].sum())"
   ]
  },
  {
   "cell_type": "code",
   "execution_count": 5,
   "metadata": {},
   "outputs": [
    {
     "name": "stdout",
     "output_type": "stream",
     "text": [
      "68375.0\n"
     ]
    }
   ],
   "source": [
    "#mean (average) of values\n",
    "print(df['Salary'].mean())"
   ]
  },
  {
   "cell_type": "code",
   "execution_count": 6,
   "metadata": {},
   "outputs": [
    {
     "name": "stdout",
     "output_type": "stream",
     "text": [
      "8\n"
     ]
    }
   ],
   "source": [
    "#count of non-null values\n",
    "print(df['Salary'].count())"
   ]
  },
  {
   "cell_type": "code",
   "execution_count": 7,
   "metadata": {},
   "outputs": [
    {
     "name": "stdout",
     "output_type": "stream",
     "text": [
      "50000\n"
     ]
    }
   ],
   "source": [
    "#minimum value\n",
    "print(df['Salary'].min())"
   ]
  },
  {
   "cell_type": "code",
   "execution_count": 8,
   "metadata": {},
   "outputs": [
    {
     "name": "stdout",
     "output_type": "stream",
     "text": [
      "85000\n"
     ]
    }
   ],
   "source": [
    "#maziimum value\n",
    "print(df['Salary'].max())"
   ]
  },
  {
   "cell_type": "code",
   "execution_count": 9,
   "metadata": {},
   "outputs": [
    {
     "name": "stdout",
     "output_type": "stream",
     "text": [
      "67500.0\n"
     ]
    }
   ],
   "source": [
    "#median of values\n",
    "print(df['Salary'].median())"
   ]
  },
  {
   "cell_type": "code",
   "execution_count": 10,
   "metadata": {},
   "outputs": [
    {
     "name": "stdout",
     "output_type": "stream",
     "text": [
      "11450.982490598786\n"
     ]
    }
   ],
   "source": [
    "#standard deviation of values\n",
    "print(df['Salary'].std())"
   ]
  },
  {
   "cell_type": "code",
   "execution_count": 11,
   "metadata": {},
   "outputs": [
    {
     "name": "stdout",
     "output_type": "stream",
     "text": [
      "131125000.0\n"
     ]
    }
   ],
   "source": [
    "#variance of values\n",
    "print(df['Salary'].var())"
   ]
  },
  {
   "cell_type": "code",
   "execution_count": 12,
   "metadata": {},
   "outputs": [
    {
     "name": "stdout",
     "output_type": "stream",
     "text": [
      "count        8.000000\n",
      "mean     68375.000000\n",
      "std      11450.982491\n",
      "min      50000.000000\n",
      "25%      61500.000000\n",
      "50%      67500.000000\n",
      "75%      76250.000000\n",
      "max      85000.000000\n",
      "Name: Salary, dtype: float64\n"
     ]
    }
   ],
   "source": [
    "#summary statistics\n",
    "print(df['Salary'].describe())"
   ]
  },
  {
   "cell_type": "code",
   "execution_count": 14,
   "metadata": {},
   "outputs": [
    {
     "name": "stdout",
     "output_type": "stream",
     "text": [
      "Department\n",
      "Finance    165000\n",
      "HR         177000\n",
      "IT         205000\n",
      "Name: Salary, dtype: int64\n"
     ]
    }
   ],
   "source": [
    "# Group by Department and get the sum of salaries for each department\n",
    "df_grouped_salary = df.groupby('Department')['Salary'].sum()\n",
    "print(df_grouped_salary)"
   ]
  },
  {
   "cell_type": "code",
   "execution_count": 15,
   "metadata": {},
   "outputs": [
    {
     "name": "stdout",
     "output_type": "stream",
     "text": [
      "            Salary                      Experience          \n",
      "               sum          mean    max        min max count\n",
      "Department                                                  \n",
      "Finance     165000  82500.000000  85000          7  10     2\n",
      "HR          177000  59000.000000  65000          2   5     3\n",
      "IT          205000  68333.333333  75000          2   6     3\n"
     ]
    }
   ],
   "source": [
    "# Group by Department and apply multiple aggregation functions\n",
    "df_grouped_multi = df.groupby('Department').agg({\n",
    "    'Salary': ['sum', 'mean', 'max'],\n",
    "    'Experience': ['min', 'max', 'count']\n",
    "})\n",
    "print(df_grouped_multi)"
   ]
  },
  {
   "cell_type": "code",
   "execution_count": 16,
   "metadata": {},
   "outputs": [
    {
     "name": "stdout",
     "output_type": "stream",
     "text": [
      "  Department  Salary\n",
      "0    Finance  165000\n",
      "1         HR  177000\n",
      "2         IT  205000\n"
     ]
    }
   ],
   "source": [
    "df_grouped_reset = df_grouped_salary.reset_index()\n",
    "print(df_grouped_reset)"
   ]
  },
  {
   "cell_type": "code",
   "execution_count": 17,
   "metadata": {},
   "outputs": [
    {
     "name": "stdout",
     "output_type": "stream",
     "text": [
      "                       Salary\n",
      "Department Experience        \n",
      "Finance    7            80000\n",
      "           10           85000\n",
      "HR         2            62000\n",
      "           3            50000\n",
      "           5            65000\n",
      "IT         2            60000\n",
      "           4            70000\n",
      "           6            75000\n"
     ]
    }
   ],
   "source": [
    "df_grouped_multi = df.groupby(['Department', 'Experience']).agg({'Salary': 'sum'})\n",
    "print(df_grouped_multi)"
   ]
  },
  {
   "cell_type": "code",
   "execution_count": 18,
   "metadata": {},
   "outputs": [
    {
     "name": "stdout",
     "output_type": "stream",
     "text": [
      "Department\n",
      "Finance     5000\n",
      "HR         15000\n",
      "IT         15000\n",
      "Name: Salary, dtype: int64\n"
     ]
    }
   ],
   "source": [
    "# Custom function: Range of salary (max - min)\n",
    "def salary_range(x):\n",
    "    return x.max() - x.min()\n",
    "\n",
    "df_custom = df.groupby('Department')['Salary'].apply(salary_range)\n",
    "print(df_custom)"
   ]
  },
  {
   "cell_type": "code",
   "execution_count": 19,
   "metadata": {},
   "outputs": [
    {
     "name": "stdout",
     "output_type": "stream",
     "text": [
      "  Department Employee  Salary  Experience  Avg_Salary_By_Dept\n",
      "0         IT        A   60000           2        68333.333333\n",
      "1         IT        B   70000           4        68333.333333\n",
      "2         HR        C   50000           3        59000.000000\n",
      "3         HR        D   65000           5        59000.000000\n",
      "4    Finance        E   80000           7        82500.000000\n",
      "5    Finance        F   85000          10        82500.000000\n",
      "6         IT        G   75000           6        68333.333333\n",
      "7         HR        H   62000           2        59000.000000\n"
     ]
    }
   ],
   "source": [
    "# Adding a column for average salary within each department\n",
    "df['Avg_Salary_By_Dept'] = df.groupby('Department')['Salary'].transform('mean')\n",
    "print(df)"
   ]
  },
  {
   "cell_type": "code",
   "execution_count": 21,
   "metadata": {},
   "outputs": [
    {
     "name": "stdout",
     "output_type": "stream",
     "text": [
      "               sum          mean\n",
      "            Salary        Salary\n",
      "Department                      \n",
      "Finance     165000  82500.000000\n",
      "HR          177000  59000.000000\n",
      "IT          205000  68333.333333\n"
     ]
    }
   ],
   "source": [
    "df_pivot = df.pivot_table(index='Department', values='Salary', aggfunc=['sum', 'mean'])\n",
    "print(df_pivot)"
   ]
  }
 ],
 "metadata": {
  "kernelspec": {
   "display_name": "Python 3",
   "language": "python",
   "name": "python3"
  },
  "language_info": {
   "codemirror_mode": {
    "name": "ipython",
    "version": 3
   },
   "file_extension": ".py",
   "mimetype": "text/x-python",
   "name": "python",
   "nbconvert_exporter": "python",
   "pygments_lexer": "ipython3",
   "version": "3.13.2"
  }
 },
 "nbformat": 4,
 "nbformat_minor": 2
}
