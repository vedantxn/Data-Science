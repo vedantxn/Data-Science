{
 "cells": [
  {
   "cell_type": "code",
   "execution_count": 2,
   "metadata": {},
   "outputs": [],
   "source": [
    "import pandas as pd\n",
    "\n",
    "# Sample DataFrame\n",
    "data = {'Name': ['Alice', 'Bob', 'Charlie'],\n",
    "        'Age': [25, 30, 35],\n",
    "        'Salary': [50000, 60000, 70000]}\n",
    "\n",
    "df = pd.DataFrame(data)\n"
   ]
  },
  {
   "cell_type": "code",
   "execution_count": 3,
   "metadata": {},
   "outputs": [
    {
     "name": "stdout",
     "output_type": "stream",
     "text": [
      "0    25\n",
      "1    30\n",
      "2    35\n",
      "Name: Age, dtype: int64\n"
     ]
    }
   ],
   "source": [
    "# Selecting a single column\n",
    "print(df['Age'])  # Returns a Series"
   ]
  },
  {
   "cell_type": "code",
   "execution_count": 4,
   "metadata": {},
   "outputs": [
    {
     "name": "stdout",
     "output_type": "stream",
     "text": [
      "      Name  Salary\n",
      "0    Alice   50000\n",
      "1      Bob   60000\n",
      "2  Charlie   70000\n"
     ]
    }
   ],
   "source": [
    "# Selecting multiple columns\n",
    "print(df[['Name', 'Salary']])  # Returns a DataFrame"
   ]
  },
  {
   "cell_type": "code",
   "execution_count": 5,
   "metadata": {},
   "outputs": [
    {
     "name": "stdout",
     "output_type": "stream",
     "text": [
      "Name        Bob\n",
      "Age          30\n",
      "Salary    60000\n",
      "Name: 1, dtype: object\n"
     ]
    }
   ],
   "source": [
    "# Selecting a row using loc (label-based)\n",
    "print(df.loc[1])  # Retrieves the second row (index 1)"
   ]
  },
  {
   "cell_type": "code",
   "execution_count": 6,
   "metadata": {},
   "outputs": [
    {
     "name": "stdout",
     "output_type": "stream",
     "text": [
      "Name      Charlie\n",
      "Age            35\n",
      "Salary      70000\n",
      "Name: 2, dtype: object\n"
     ]
    }
   ],
   "source": [
    "# Selecting a row using iloc (position-based)\n",
    "print(df.iloc[2])  # Retrieves the third row (index 2)"
   ]
  },
  {
   "cell_type": "code",
   "execution_count": 7,
   "metadata": {},
   "outputs": [
    {
     "name": "stdout",
     "output_type": "stream",
     "text": [
      "      Name  Age  Salary\n",
      "1      Bob   30   60000\n",
      "2  Charlie   35   70000\n"
     ]
    }
   ],
   "source": [
    "# Filtering data\n",
    "print(df[df['Age'] > 25])  # Returns rows where Age > 25"
   ]
  },
  {
   "cell_type": "code",
   "execution_count": 8,
   "metadata": {},
   "outputs": [
    {
     "name": "stdout",
     "output_type": "stream",
     "text": [
      "      Name  Age  Salary   Bonus\n",
      "0    Alice   25   50000  5000.0\n",
      "1      Bob   30   60000  6000.0\n",
      "2  Charlie   35   70000  7000.0\n"
     ]
    }
   ],
   "source": [
    "# Adding a new column\n",
    "df['Bonus'] = df['Salary'] * 0.1\n",
    "print(df)"
   ]
  },
  {
   "cell_type": "code",
   "execution_count": 9,
   "metadata": {},
   "outputs": [],
   "source": [
    "# Updating values\n",
    "df.at[0, 'Salary'] = 55000  # Update using at\n",
    "df.loc[df['Name'] == 'Bob', 'Age'] = 32  # Update with condition"
   ]
  },
  {
   "cell_type": "code",
   "execution_count": 10,
   "metadata": {},
   "outputs": [
    {
     "name": "stdout",
     "output_type": "stream",
     "text": [
      "      Name  Age  Salary\n",
      "0    Alice   25   55000\n",
      "1      Bob   32   60000\n",
      "2  Charlie   35   70000\n"
     ]
    }
   ],
   "source": [
    "# Deleting a column\n",
    "df.drop(columns=['Bonus'], inplace=True)\n",
    "print(df)"
   ]
  },
  {
   "cell_type": "code",
   "execution_count": 11,
   "metadata": {},
   "outputs": [
    {
     "name": "stdout",
     "output_type": "stream",
     "text": [
      "             Age        Salary\n",
      "count   3.000000      3.000000\n",
      "mean   30.666667  61666.666667\n",
      "std     5.131601   7637.626158\n",
      "min    25.000000  55000.000000\n",
      "25%    28.500000  57500.000000\n",
      "50%    32.000000  60000.000000\n",
      "75%    33.500000  65000.000000\n",
      "max    35.000000  70000.000000\n",
      "Age          30.666667\n",
      "Salary    61666.666667\n",
      "dtype: float64\n"
     ]
    }
   ],
   "source": [
    "# Basic statistics\n",
    "print(df.describe())  # Summary statistics\n",
    "print(df.mean(numeric_only=True))  # Mean of numeric columns"
   ]
  },
  {
   "cell_type": "code",
   "execution_count": 12,
   "metadata": {},
   "outputs": [
    {
     "name": "stdout",
     "output_type": "stream",
     "text": [
      "        Name  Salary\n",
      "Age                 \n",
      "25     Alice   55000\n",
      "32       Bob   60000\n",
      "35   Charlie   70000\n"
     ]
    }
   ],
   "source": [
    "# Grouping\n",
    "grouped = df.groupby('Age').sum()\n",
    "print(grouped)"
   ]
  },
  {
   "cell_type": "code",
   "execution_count": 13,
   "metadata": {},
   "outputs": [],
   "source": [
    "# Sorting by column\n",
    "df_sorted = df.sort_values(by='Salary', ascending=False)\n",
    "\n",
    "# Reset index\n",
    "df_reset = df_sorted.reset_index(drop=True)\n",
    "\n",
    "# Setting a column as index\n",
    "df_indexed = df.set_index('Name')"
   ]
  },
  {
   "cell_type": "code",
   "execution_count": 14,
   "metadata": {},
   "outputs": [
    {
     "name": "stdout",
     "output_type": "stream",
     "text": [
      "Name      0\n",
      "Age       0\n",
      "Salary    1\n",
      "dtype: int64\n"
     ]
    }
   ],
   "source": [
    "# Introducing NaN values\n",
    "df.loc[1, 'Salary'] = None\n",
    "\n",
    "# Checking for missing values\n",
    "print(df.isna().sum())\n",
    "\n",
    "# Filling missing values\n",
    "df.fillna({'Salary': df['Salary'].mean()}, inplace=True)\n",
    "\n",
    "# Dropping rows with NaN\n",
    "df.dropna(inplace=True)\n"
   ]
  },
  {
   "cell_type": "code",
   "execution_count": 15,
   "metadata": {},
   "outputs": [],
   "source": [
    "df2 = pd.DataFrame({'Name': ['Alice', 'Bob'], 'Department': ['HR', 'IT']})\n",
    "\n",
    "# Merging (like SQL JOIN)\n",
    "df_merged = pd.merge(df, df2, on='Name', how='left')\n",
    "\n",
    "# Concatenation\n",
    "df_concat = pd.concat([df, df2], axis=0)\n",
    "\n",
    "# Joining (using index)\n",
    "df.set_index('Name', inplace=True)\n",
    "df2.set_index('Name', inplace=True)\n",
    "df_joined = df.join(df2, how='left')"
   ]
  },
  {
   "cell_type": "code",
   "execution_count": 16,
   "metadata": {},
   "outputs": [],
   "source": [
    "# Applying a function to a column\n",
    "df['Age_Category'] = df['Age'].apply(lambda x: 'Young' if x < 30 else 'Old')\n",
    "\n",
    "# Applying row-wise operations\n",
    "df['Salary_After_Tax'] = df.apply(lambda row: row['Salary'] * 0.8, axis=1)\n"
   ]
  },
  {
   "cell_type": "code",
   "execution_count": 18,
   "metadata": {},
   "outputs": [
    {
     "name": "stdout",
     "output_type": "stream",
     "text": [
      "Name  Alice  Bob  Charlie\n",
      "Age                      \n",
      "25        1    0        0\n",
      "32        0    1        0\n",
      "35        0    0        1\n"
     ]
    }
   ],
   "source": [
    "df_pivot = df.pivot_table(values='Salary', index='Age', aggfunc='mean')\n",
    "\n",
    "# Reset index to use 'Name' column\n",
    "df_reset_index = df.reset_index()\n",
    "\n",
    "# Crosstab for categorical counts\n",
    "print(pd.crosstab(df_reset_index['Age'], df_reset_index['Name']))"
   ]
  }
 ],
 "metadata": {
  "kernelspec": {
   "display_name": "Python 3",
   "language": "python",
   "name": "python3"
  },
  "language_info": {
   "codemirror_mode": {
    "name": "ipython",
    "version": 3
   },
   "file_extension": ".py",
   "mimetype": "text/x-python",
   "name": "python",
   "nbconvert_exporter": "python",
   "pygments_lexer": "ipython3",
   "version": "3.13.2"
  }
 },
 "nbformat": 4,
 "nbformat_minor": 2
}
