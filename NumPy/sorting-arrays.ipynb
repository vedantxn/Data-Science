{
 "cells": [
  {
   "cell_type": "code",
   "execution_count": 1,
   "metadata": {},
   "outputs": [
    {
     "name": "stdout",
     "output_type": "stream",
     "text": [
      "[1 2 3 4 5]\n",
      "[5 4 3 2 1]\n"
     ]
    }
   ],
   "source": [
    "import numpy as np\n",
    "\n",
    "arr = np.array([3, 1, 5, 2, 4])\n",
    "sorted_arr = np.sort(arr)  # Ascending order\n",
    "sorted_arr_desc = np.sort(arr)[::-1]  # Descending order\n",
    "\n",
    "print(sorted_arr)        \n",
    "print(sorted_arr_desc)   "
   ]
  },
  {
   "cell_type": "code",
   "execution_count": 2,
   "metadata": {},
   "outputs": [
    {
     "name": "stdout",
     "output_type": "stream",
     "text": [
      "[1 3 0 4 2]\n",
      "[1 2 3 4 5]\n"
     ]
    }
   ],
   "source": [
    "arr = np.array([3, 1, 5, 2, 4])\n",
    "sorted_indices = np.argsort(arr)\n",
    "\n",
    "print(sorted_indices)    \n",
    "print(arr[sorted_indices]) "
   ]
  },
  {
   "cell_type": "code",
   "execution_count": 3,
   "metadata": {},
   "outputs": [
    {
     "name": "stdout",
     "output_type": "stream",
     "text": [
      "[[1 2 3]\n",
      " [4 5 6]]\n"
     ]
    }
   ],
   "source": [
    "matrix = np.array([[3, 2, 1], [6, 5, 4]])\n",
    "sorted_matrix = np.sort(matrix, axis=1)  # Sort each row\n",
    "\n",
    "print(sorted_matrix)"
   ]
  },
  {
   "cell_type": "code",
   "execution_count": null,
   "metadata": {},
   "outputs": [],
   "source": [
    "import numpy as np\n",
    "import time\n",
    "\n",
    "arr = np.random.randint(0, 10000, 10**6)  # Large array with 1 million elements\n",
    "\n",
    "for algo in [\"quicksort\", \"mergesort\", \"heapsort\", \"stable\"]:\n",
    "    start = time.time()\n",
    "    np.sort(arr, kind=algo)\n",
    "    end = time.time()\n",
    "    print(f\"{algo}: {end - start:.5f} seconds\")\n"
   ]
  }
 ],
 "metadata": {
  "kernelspec": {
   "display_name": "Python 3",
   "language": "python",
   "name": "python3"
  },
  "language_info": {
   "codemirror_mode": {
    "name": "ipython",
    "version": 3
   },
   "file_extension": ".py",
   "mimetype": "text/x-python",
   "name": "python",
   "nbconvert_exporter": "python",
   "pygments_lexer": "ipython3",
   "version": "3.13.2"
  }
 },
 "nbformat": 4,
 "nbformat_minor": 2
}
