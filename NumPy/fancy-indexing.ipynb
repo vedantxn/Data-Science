{
 "cells": [
  {
   "cell_type": "code",
   "execution_count": 1,
   "metadata": {},
   "outputs": [],
   "source": [
    "import numpy as np"
   ]
  },
  {
   "cell_type": "code",
   "execution_count": 2,
   "metadata": {},
   "outputs": [
    {
     "data": {
      "text/plain": [
       "array([10, 30, 50])"
      ]
     },
     "execution_count": 2,
     "metadata": {},
     "output_type": "execute_result"
    }
   ],
   "source": [
    "arr = np.array([10 , 20 , 30 , 40 , 50])\n",
    "indices = [0, 2, 4]\n",
    "arr[indices]"
   ]
  },
  {
   "cell_type": "code",
   "execution_count": null,
   "metadata": {},
   "outputs": [
    {
     "name": "stdout",
     "output_type": "stream",
     "text": [
      "[[10 20 30]\n",
      " [70 80 90]]\n",
      "[[20 30]\n",
      " [50 60]\n",
      " [80 90]]\n",
      "[20 90]\n"
     ]
    }
   ],
   "source": [
    "arr2d = np.array([[10, 20, 30], \n",
    "                  [40, 50, 60], \n",
    "                  [70, 80, 90]])\n",
    "\n",
    "rows = [0, 2]  \n",
    "cols = [1, 2]  \n",
    "\n",
    "print(arr2d[rows, :])   \n",
    "print(arr2d[:, cols])   \n",
    "print(arr2d[rows, cols])"
   ]
  },
  {
   "cell_type": "code",
   "execution_count": 4,
   "metadata": {},
   "outputs": [
    {
     "name": "stdout",
     "output_type": "stream",
     "text": [
      "[30 40 50]\n"
     ]
    }
   ],
   "source": [
    "arr = np.array([10, 20, 30, 40, 50])\n",
    "maks = arr > 25\n",
    "print(arr[maks])"
   ]
  },
  {
   "cell_type": "code",
   "execution_count": 5,
   "metadata": {},
   "outputs": [
    {
     "name": "stdout",
     "output_type": "stream",
     "text": [
      "[[20 30]\n",
      " [80 90]]\n"
     ]
    }
   ],
   "source": [
    "rows = np.array([0, 2])\n",
    "cols = np.array([1, 2])\n",
    "\n",
    "print(arr2d[np.ix_(rows, cols)])"
   ]
  },
  {
   "cell_type": "code",
   "execution_count": null,
   "metadata": {},
   "outputs": [
    {
     "name": "stdout",
     "output_type": "stream",
     "text": [
      "[10 99 30 99 50]\n"
     ]
    }
   ],
   "source": [
    "arr = np.array([10, 20, 30, 40, 50])\n",
    "arr[[1, 3]] = 99  # Change elements at index 1 and 3 to 99\n",
    "\n",
    "print(arr)"
   ]
  }
 ],
 "metadata": {
  "kernelspec": {
   "display_name": "Python 3",
   "language": "python",
   "name": "python3"
  },
  "language_info": {
   "codemirror_mode": {
    "name": "ipython",
    "version": 3
   },
   "file_extension": ".py",
   "mimetype": "text/x-python",
   "name": "python",
   "nbconvert_exporter": "python",
   "pygments_lexer": "ipython3",
   "version": "3.13.2"
  }
 },
 "nbformat": 4,
 "nbformat_minor": 2
}
