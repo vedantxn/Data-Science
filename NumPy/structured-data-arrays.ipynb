{
 "cells": [
  {
   "cell_type": "code",
   "execution_count": 1,
   "metadata": {},
   "outputs": [],
   "source": [
    "import numpy as np"
   ]
  },
  {
   "cell_type": "code",
   "execution_count": 2,
   "metadata": {},
   "outputs": [
    {
     "name": "stdout",
     "output_type": "stream",
     "text": [
      "[('Rex', 9, 81.) ('Fido', 3, 27.)]\n",
      "['Rex' 'Fido']\n"
     ]
    }
   ],
   "source": [
    "#define a strucuted dtype\n",
    "dt = np.dtype([('name', 'U10'), ('age', 'i4'), ('weight', 'f4')])\n",
    "#create a structured array\n",
    "data = np.array([('Rex', 9, 81.0), ('Fido', 3, 27.0)], dtype=dt)\n",
    "\n",
    "print(data)\n",
    "print(data['name'])"
   ]
  },
  {
   "cell_type": "code",
   "execution_count": 3,
   "metadata": {},
   "outputs": [
    {
     "name": "stdout",
     "output_type": "stream",
     "text": [
      "['Alice' 'Bob']\n"
     ]
    }
   ],
   "source": [
    "dt_nested = np.dtype([\n",
    "    ('person', [('name', 'U10'), ('age', 'i4')]),\n",
    "    ('score', 'f4')\n",
    "])\n",
    "\n",
    "data_nested = np.array([\n",
    "    (('Alice', 25), 90.5),\n",
    "    (('Bob', 30), 85.2)\n",
    "], dtype=dt_nested)\n",
    "\n",
    "print(data_nested['person']['name'])  # Accessing nested field\n"
   ]
  },
  {
   "cell_type": "code",
   "execution_count": 4,
   "metadata": {},
   "outputs": [
    {
     "name": "stdout",
     "output_type": "stream",
     "text": [
      "['Alice' 'Bob']\n",
      "[25 30]\n"
     ]
    }
   ],
   "source": [
    "data_rec = np.array([('Alice', 25, 55.5), ('Bob', 30, 77.8)], \n",
    "                     dtype=[('name', 'U10'), ('age', 'i4'), ('weight', 'f4')])\n",
    "\n",
    "# Convert to record array\n",
    "data_rec = data_rec.view(np.recarray)\n",
    "\n",
    "print(data_rec.name)  # Accessing fields as attributes\n",
    "print(data_rec.age)\n"
   ]
  }
 ],
 "metadata": {
  "kernelspec": {
   "display_name": "Python 3",
   "language": "python",
   "name": "python3"
  },
  "language_info": {
   "codemirror_mode": {
    "name": "ipython",
    "version": 3
   },
   "file_extension": ".py",
   "mimetype": "text/x-python",
   "name": "python",
   "nbconvert_exporter": "python",
   "pygments_lexer": "ipython3",
   "version": "3.13.2"
  }
 },
 "nbformat": 4,
 "nbformat_minor": 2
}
